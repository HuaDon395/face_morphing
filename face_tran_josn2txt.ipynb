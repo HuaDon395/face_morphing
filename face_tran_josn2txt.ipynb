{
 "cells": [
  {
   "cell_type": "code",
   "execution_count": 6,
   "metadata": {},
   "outputs": [],
   "source": [
    "import json\n",
    "import os\n",
    "def readjson():\n",
    "    file_path = r'C:\\head\\ktimgff.json'\n",
    "    with open(file_path, 'r') as f:\n",
    "        temp = json.loads(f.read())\n",
    "        file_handle = open('C:\\head\\ktimgff.txt', mode='w')\n",
    "        i = 0\n",
    "        for obj in temp['shapes']:\n",
    "            i += 1\n",
    "            index = str(i)\n",
    "            if 'f' in obj['label'] :\n",
    "                x = int(obj['points'][0][0])\n",
    "                y = int(obj['points'][0][1])\n",
    "                x = str(x)\n",
    "                y = str(y)\n",
    "                file_handle.write(index+' '+x+' '+y)\n",
    "#                 file_handle.write(' ')\n",
    "#                 file_handle.write(y)\n",
    "                file_handle.write('\\n') \n",
    "        file_handle.close()\n",
    "\n",
    "if __name__ == '__main__':\n",
    "    readjson()\n",
    "    \n",
    "    \n"
   ]
  },
  {
   "cell_type": "code",
   "execution_count": null,
   "metadata": {},
   "outputs": [],
   "source": []
  }
 ],
 "metadata": {
  "kernelspec": {
   "display_name": "Python 3",
   "language": "python",
   "name": "python3"
  },
  "language_info": {
   "codemirror_mode": {
    "name": "ipython",
    "version": 3
   },
   "file_extension": ".py",
   "mimetype": "text/x-python",
   "name": "python",
   "nbconvert_exporter": "python",
   "pygments_lexer": "ipython3",
   "version": "3.7.6"
  }
 },
 "nbformat": 4,
 "nbformat_minor": 4
}
